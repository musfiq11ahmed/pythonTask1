import numpy as np
import matplotlib.pyplot as plt

# Number of objects
N = 3

# Axis limits
x_min, x_max = -10, 10
y_min, y_max = -10, 10

# Generate random coordinates
x = np.random.uniform(x_min, x_max, N)
y = np.random.uniform(y_min, y_max, N)

# Plot the points
plt.scatter(x, y)
plt.xlim(x_min, x_max)
plt.ylim(y_min, y_max)
plt.xlabel("X-axis")
plt.ylabel("Y-axis")
plt.show()



import numpy as np
import matplotlib.pyplot as plt

# Axis limits
x_min, x_max = -10, 10
y_min, y_max = -10, 10

# Generate fixed coordinates
x = np.array([1,2,6])
y = np.array([3,8,1])

# Plot the points
plt.plot(x, y, 'o')

plt.xlim(x_min, x_max)
plt.ylim(y_min, y_max)

plt.xlabel("X-axis")
plt.ylabel("Y-axis")

plt.show()



import numpy as np
import matplotlib.pyplot as plt

# Axis limits
x_min, x_max = -10, 10
y_min, y_max = -10, 10

# Generate fixed coordinates
x = np.array([1,2,6])
y = np.array([3,8,1])

# Plot the points
plt.plot(x, y)

plt.xlim(x_min, x_max)
plt.ylim(y_min, y_max)

plt.xlabel("X-axis")
plt.ylabel("Y-axis")

plt.show()


mport numpy as np
import matplotlib.pyplot as plt

# Number of objects
N = 3

# Axis limits
x_min, x_max = -10, 10
y_min, y_max = -10, 10

# Generate random coordinates
x = np.random.uniform(x_min, x_max, N)
y = np.random.uniform(y_min, y_max, N)

# Plot the points
plt.plot(x, y)
plt.xlim(x_min, x_max)
plt.ylim(y_min, y_max)
plt.xlabel("X-axis")
plt.ylabel("Y-axis")
plt.show()



